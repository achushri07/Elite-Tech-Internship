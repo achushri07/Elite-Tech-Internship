{
 "cells": [
  {
   "cell_type": "markdown",
   "id": "897a008a",
   "metadata": {},
   "source": [
    "# Supply Chain Analysis"
   ]
  },
  {
   "cell_type": "code",
   "execution_count": 3,
   "id": "071b7245",
   "metadata": {},
   "outputs": [],
   "source": [
    "import dask.dataframe as dd"
   ]
  },
  {
   "cell_type": "code",
   "execution_count": 4,
   "id": "e644bb00",
   "metadata": {},
   "outputs": [],
   "source": [
    "data=dd.read_csv('supply_chain.csv') # supply_chain is basically a csv file in the directory with the data"
   ]
  },
  {
   "cell_type": "code",
   "execution_count": 5,
   "id": "b49f3649",
   "metadata": {},
   "outputs": [
    {
     "data": {
      "text/html": [
       "<div><strong>Dask DataFrame Structure:</strong></div>\n",
       "<table border=\"1\" class=\"dataframe\">\n",
       "  <thead>\n",
       "    <tr style=\"text-align: right;\">\n",
       "      <th></th>\n",
       "      <th>Order ID</th>\n",
       "      <th>Customer Name</th>\n",
       "      <th>Order Date</th>\n",
       "      <th>Product Category</th>\n",
       "      <th>Product Name</th>\n",
       "      <th>Order Quantity</th>\n",
       "      <th>Unit Price</th>\n",
       "      <th>Region</th>\n",
       "      <th>Total Price</th>\n",
       "      <th>Customer Segment</th>\n",
       "      <th>Shipping Mode</th>\n",
       "      <th>City</th>\n",
       "      <th>State</th>\n",
       "      <th>Shipping Cost</th>\n",
       "      <th>Order Priority</th>\n",
       "    </tr>\n",
       "    <tr>\n",
       "      <th>npartitions=1</th>\n",
       "      <th></th>\n",
       "      <th></th>\n",
       "      <th></th>\n",
       "      <th></th>\n",
       "      <th></th>\n",
       "      <th></th>\n",
       "      <th></th>\n",
       "      <th></th>\n",
       "      <th></th>\n",
       "      <th></th>\n",
       "      <th></th>\n",
       "      <th></th>\n",
       "      <th></th>\n",
       "      <th></th>\n",
       "      <th></th>\n",
       "    </tr>\n",
       "  </thead>\n",
       "  <tbody>\n",
       "    <tr>\n",
       "      <th></th>\n",
       "      <td>string</td>\n",
       "      <td>string</td>\n",
       "      <td>string</td>\n",
       "      <td>string</td>\n",
       "      <td>string</td>\n",
       "      <td>int64</td>\n",
       "      <td>float64</td>\n",
       "      <td>string</td>\n",
       "      <td>float64</td>\n",
       "      <td>string</td>\n",
       "      <td>string</td>\n",
       "      <td>string</td>\n",
       "      <td>string</td>\n",
       "      <td>float64</td>\n",
       "      <td>string</td>\n",
       "    </tr>\n",
       "    <tr>\n",
       "      <th></th>\n",
       "      <td>...</td>\n",
       "      <td>...</td>\n",
       "      <td>...</td>\n",
       "      <td>...</td>\n",
       "      <td>...</td>\n",
       "      <td>...</td>\n",
       "      <td>...</td>\n",
       "      <td>...</td>\n",
       "      <td>...</td>\n",
       "      <td>...</td>\n",
       "      <td>...</td>\n",
       "      <td>...</td>\n",
       "      <td>...</td>\n",
       "      <td>...</td>\n",
       "      <td>...</td>\n",
       "    </tr>\n",
       "  </tbody>\n",
       "</table>\n",
       "<div>Dask Name: to_string_dtype, 2 expressions</div>"
      ],
      "text/plain": [
       "Dask DataFrame Structure:\n",
       "              Order ID Customer Name Order Date Product Category Product Name Order Quantity Unit Price  Region Total Price Customer Segment Shipping Mode    City   State Shipping Cost Order Priority\n",
       "npartitions=1                                                                                                                                                                                          \n",
       "                string        string     string           string       string          int64    float64  string     float64           string        string  string  string       float64         string\n",
       "                   ...           ...        ...              ...          ...            ...        ...     ...         ...              ...           ...     ...     ...           ...            ...\n",
       "Dask Name: to_string_dtype, 2 expressions\n",
       "Expr=ArrowStringConversion(frame=FromMapProjectable(124823f))"
      ]
     },
     "execution_count": 5,
     "metadata": {},
     "output_type": "execute_result"
    }
   ],
   "source": [
    "data"
   ]
  },
  {
   "cell_type": "code",
   "execution_count": 6,
   "id": "a68f8f9c",
   "metadata": {},
   "outputs": [
    {
     "data": {
      "text/plain": [
       "Index(['Order ID', 'Customer Name', 'Order Date', 'Product Category',\n",
       "       'Product Name', 'Order Quantity', 'Unit Price', 'Region', 'Total Price',\n",
       "       'Customer Segment', 'Shipping Mode', 'City', 'State', 'Shipping Cost',\n",
       "       'Order Priority'],\n",
       "      dtype='object')"
      ]
     },
     "execution_count": 6,
     "metadata": {},
     "output_type": "execute_result"
    }
   ],
   "source": [
    "data.columns  # returns the column names"
   ]
  },
  {
   "cell_type": "code",
   "execution_count": 7,
   "id": "1a716e56",
   "metadata": {},
   "outputs": [
    {
     "data": {
      "text/plain": [
       "Order ID            string[pyarrow]\n",
       "Customer Name       string[pyarrow]\n",
       "Order Date          string[pyarrow]\n",
       "Product Category    string[pyarrow]\n",
       "Product Name        string[pyarrow]\n",
       "Order Quantity                int64\n",
       "Unit Price                  float64\n",
       "Region              string[pyarrow]\n",
       "Total Price                 float64\n",
       "Customer Segment    string[pyarrow]\n",
       "Shipping Mode       string[pyarrow]\n",
       "City                string[pyarrow]\n",
       "State               string[pyarrow]\n",
       "Shipping Cost               float64\n",
       "Order Priority      string[pyarrow]\n",
       "dtype: object"
      ]
     },
     "execution_count": 7,
     "metadata": {},
     "output_type": "execute_result"
    }
   ],
   "source": [
    "data.dtypes  # returns the datatypes of the each column"
   ]
  },
  {
   "cell_type": "code",
   "execution_count": 8,
   "id": "3e4a8b5f",
   "metadata": {},
   "outputs": [
    {
     "data": {
      "text/plain": [
       "Product Category\n",
       "Books          27763116.45\n",
       "Clothing       27610567.53\n",
       "Electronics    28174568.31\n",
       "Furniture      28284704.14\n",
       "Grocery        27909779.44\n",
       "Name: Total Price, dtype: float64"
      ]
     },
     "execution_count": 8,
     "metadata": {},
     "output_type": "execute_result"
    }
   ],
   "source": [
    "# Total Revenue per Product Category\n",
    "revenue_by_category = data.groupby(\"Product Category\")[\"Total Price\"].sum().compute()\n",
    "revenue_by_category "
   ]
  },
  {
   "cell_type": "code",
   "execution_count": 9,
   "id": "cf8e121e",
   "metadata": {},
   "outputs": [
    {
     "data": {
      "text/plain": [
       "Region\n",
       "East     52.655965\n",
       "North    52.253655\n",
       "South    52.420819\n",
       "West     52.654184\n",
       "Name: Shipping Cost, dtype: float64"
      ]
     },
     "execution_count": 9,
     "metadata": {},
     "output_type": "execute_result"
    }
   ],
   "source": [
    "# Average Shipping Cost by Region\n",
    "avg_shipping_cost = data.groupby(\"Region\")[\"Shipping Cost\"].mean().compute()\n",
    "avg_shipping_cost "
   ]
  },
  {
   "cell_type": "code",
   "execution_count": 10,
   "id": "cff6e738",
   "metadata": {},
   "outputs": [
    {
     "data": {
      "text/plain": [
       "Shipping Mode\n",
       "First Class       24904\n",
       "Same Day          25143\n",
       "Second Class      24935\n",
       "Standard Class    25018\n",
       "Name: count, dtype: int64[pyarrow]"
      ]
     },
     "execution_count": 10,
     "metadata": {},
     "output_type": "execute_result"
    }
   ],
   "source": [
    "# Most Popular Shipping Mode\n",
    "shipping_mode_counts = data[\"Shipping Mode\"].value_counts().compute()\n",
    "shipping_mode_counts"
   ]
  },
  {
   "cell_type": "code",
   "execution_count": 11,
   "id": "5edd428a",
   "metadata": {},
   "outputs": [
    {
     "data": {
      "text/plain": [
       "Customer Segment\n",
       "Consumer          34716024.45\n",
       "Corporate         34716596.15\n",
       "Home Office       35049959.80\n",
       "Small Business    35260155.47\n",
       "Name: Total Price, dtype: float64"
      ]
     },
     "execution_count": 11,
     "metadata": {},
     "output_type": "execute_result"
    }
   ],
   "source": [
    "# Revenue by Customer Segment\n",
    "revenue_by_segment = data.groupby(\"Customer Segment\")[\"Total Price\"].sum().compute()\n",
    "revenue_by_segment"
   ]
  },
  {
   "cell_type": "code",
   "execution_count": 12,
   "id": "afea32e0",
   "metadata": {},
   "outputs": [
    {
     "data": {
      "text/plain": [
       "Product Category\n",
       "Books          27763116.45\n",
       "Clothing       27610567.53\n",
       "Electronics    28174568.31\n",
       "Furniture      28284704.14\n",
       "Grocery        27909779.44\n",
       "Name: Total Price, dtype: float64"
      ]
     },
     "execution_count": 12,
     "metadata": {},
     "output_type": "execute_result"
    }
   ],
   "source": [
    "# Total Revenue per Product Category\n",
    "data.groupby(\"Product Category\")[\"Total Price\"].sum().compute()"
   ]
  },
  {
   "cell_type": "code",
   "execution_count": 13,
   "id": "ce98d447",
   "metadata": {},
   "outputs": [
    {
     "name": "stdout",
     "output_type": "stream",
     "text": [
      "High Priority Orders: 24972\n",
      "Total Revenue from High Priority: 34912293.49999999\n"
     ]
    }
   ],
   "source": [
    "# High-Priority Orders: Count & Total Revenue\n",
    "high_priority = data[data[\"Order Priority\"] == \"High\"]\n",
    "high_priority_summary = high_priority[\"Total Price\"].sum().compute()\n",
    "high_priority_count = high_priority.shape[0].compute()\n",
    "print(\"High Priority Orders:\", high_priority_count)\n",
    "print(\"Total Revenue from High Priority:\", high_priority_summary)\n"
   ]
  },
  {
   "cell_type": "code",
   "execution_count": 14,
   "id": "e2d6f78d",
   "metadata": {},
   "outputs": [
    {
     "data": {
      "text/plain": [
       "City\n",
       "East Michael     91\n",
       "Lake Michael     82\n",
       "South Michael    80\n",
       "North Michael    79\n",
       "Port Michael     77\n",
       "Name: count, dtype: int64[pyarrow]"
      ]
     },
     "execution_count": 14,
     "metadata": {},
     "output_type": "execute_result"
    }
   ],
   "source": [
    "# Top 5 Cities by Total Orders\n",
    "city_order_counts = data[\"City\"].value_counts().nlargest(5).compute()\n",
    "city_order_counts"
   ]
  },
  {
   "cell_type": "code",
   "execution_count": 15,
   "id": "2781c052",
   "metadata": {},
   "outputs": [
    {
     "name": "stderr",
     "output_type": "stream",
     "text": [
      "c:\\Users\\Achintya Srivastawa\\AppData\\Local\\Programs\\Python\\Python313\\Lib\\site-packages\\numpy\\lib\\_function_base_impl.py:552: RuntimeWarning: Mean of empty slice.\n",
      "  avg = a.mean(axis, **keepdims_kw)\n",
      "c:\\Users\\Achintya Srivastawa\\AppData\\Local\\Programs\\Python\\Python313\\Lib\\site-packages\\numpy\\_core\\_methods.py:137: RuntimeWarning: invalid value encountered in divide\n",
      "  ret = um.true_divide(\n",
      "c:\\Users\\Achintya Srivastawa\\AppData\\Local\\Programs\\Python\\Python313\\Lib\\site-packages\\pandas\\core\\frame.py:11211: RuntimeWarning: Degrees of freedom <= 0 for slice\n",
      "  base_cov = np.cov(mat.T, ddof=ddof)\n",
      "c:\\Users\\Achintya Srivastawa\\AppData\\Local\\Programs\\Python\\Python313\\Lib\\site-packages\\numpy\\lib\\_function_base_impl.py:2894: RuntimeWarning: divide by zero encountered in divide\n",
      "  c *= np.true_divide(1, fact)\n",
      "c:\\Users\\Achintya Srivastawa\\AppData\\Local\\Programs\\Python\\Python313\\Lib\\site-packages\\numpy\\lib\\_function_base_impl.py:2894: RuntimeWarning: invalid value encountered in multiply\n",
      "  c *= np.true_divide(1, fact)\n"
     ]
    },
    {
     "data": {
      "text/html": [
       "<div>\n",
       "<style scoped>\n",
       "    .dataframe tbody tr th:only-of-type {\n",
       "        vertical-align: middle;\n",
       "    }\n",
       "\n",
       "    .dataframe tbody tr th {\n",
       "        vertical-align: top;\n",
       "    }\n",
       "\n",
       "    .dataframe thead th {\n",
       "        text-align: right;\n",
       "    }\n",
       "</style>\n",
       "<table border=\"1\" class=\"dataframe\">\n",
       "  <thead>\n",
       "    <tr style=\"text-align: right;\">\n",
       "      <th></th>\n",
       "      <th>Order Quantity</th>\n",
       "      <th>Unit Price</th>\n",
       "      <th>Total Price</th>\n",
       "      <th>Shipping Cost</th>\n",
       "    </tr>\n",
       "  </thead>\n",
       "  <tbody>\n",
       "    <tr>\n",
       "      <th>Order Quantity</th>\n",
       "      <td>1.000000</td>\n",
       "      <td>-0.003503</td>\n",
       "      <td>0.640119</td>\n",
       "      <td>0.002020</td>\n",
       "    </tr>\n",
       "    <tr>\n",
       "      <th>Unit Price</th>\n",
       "      <td>-0.003503</td>\n",
       "      <td>1.000000</td>\n",
       "      <td>0.677826</td>\n",
       "      <td>0.000742</td>\n",
       "    </tr>\n",
       "    <tr>\n",
       "      <th>Total Price</th>\n",
       "      <td>0.640119</td>\n",
       "      <td>0.677826</td>\n",
       "      <td>1.000000</td>\n",
       "      <td>0.001364</td>\n",
       "    </tr>\n",
       "    <tr>\n",
       "      <th>Shipping Cost</th>\n",
       "      <td>0.002020</td>\n",
       "      <td>0.000742</td>\n",
       "      <td>0.001364</td>\n",
       "      <td>1.000000</td>\n",
       "    </tr>\n",
       "  </tbody>\n",
       "</table>\n",
       "</div>"
      ],
      "text/plain": [
       "                Order Quantity  Unit Price  Total Price  Shipping Cost\n",
       "Order Quantity        1.000000   -0.003503     0.640119       0.002020\n",
       "Unit Price           -0.003503    1.000000     0.677826       0.000742\n",
       "Total Price           0.640119    0.677826     1.000000       0.001364\n",
       "Shipping Cost         0.002020    0.000742     0.001364       1.000000"
      ]
     },
     "execution_count": 15,
     "metadata": {},
     "output_type": "execute_result"
    }
   ],
   "source": [
    "# Correlation Check\n",
    "numerics = data[[\"Order Quantity\", \"Unit Price\", \"Total Price\", \"Shipping Cost\"]]\n",
    "numerics.corr().compute()"
   ]
  },
  {
   "cell_type": "code",
   "execution_count": 16,
   "id": "6d83897d",
   "metadata": {},
   "outputs": [],
   "source": [
    "from matplotlib import pyplot as plt"
   ]
  },
  {
   "cell_type": "code",
   "execution_count": 23,
   "id": "0b64a87d",
   "metadata": {},
   "outputs": [
    {
     "data": {
      "image/png": "[encoded data removed]",
      "text/plain": [
       "<Figure size 640x480 with 1 Axes>"
      ]
     },
     "metadata": {},
     "output_type": "display_data"
    }
   ],
   "source": [
    "# Plotting the revenue by product category\n",
    "plt.bar(x=revenue_by_category.index, height=revenue_by_category.values)\n",
    "plt.xlabel(\"Product Category\")\n",
    "plt.ylabel(\"Total Revenue\")\n",
    "plt.title(\"Total Revenue per Product Category\")\n",
    "plt.show()"
   ]
  }
 ],
 "metadata": {
  "kernelspec": {
   "display_name": "Python 3",
   "language": "python",
   "name": "python3"
  },
  "language_info": {
   "codemirror_mode": {
    "name": "ipython",
    "version": 3
   },
   "file_extension": ".py",
   "mimetype": "text/x-python",
   "name": "python",
   "nbconvert_exporter": "python",
   "pygments_lexer": "ipython3",
   "version": "3.13.1"
  }
 },
 "nbformat": 4,
 "nbformat_minor": 5
}
